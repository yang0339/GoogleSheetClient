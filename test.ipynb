{
 "cells": [
  {
   "cell_type": "code",
   "execution_count": 1,
   "metadata": {
    "collapsed": true
   },
   "outputs": [],
   "source": [
    "from GoogleSheetClient.main_program import *\n",
    "workbook = 'foreign_stock_all'\n",
    "json_file = 'C:/Users/Runtong/OneDrive/2008FinancialCrisis/stock-viewer-878f92aff5c7.json'"
   ]
  },
  {
   "cell_type": "code",
   "execution_count": 2,
   "metadata": {
    "collapsed": false
   },
   "outputs": [
    {
     "name": "stdout",
     "output_type": "stream",
     "text": [
      "connection established.\n",
      "\n"
     ]
    },
    {
     "data": {
      "text/plain": [
       "<oauth2client.service_account.ServiceAccountCredentials at 0x210e87157f0>"
      ]
     },
     "execution_count": 2,
     "metadata": {},
     "output_type": "execute_result"
    }
   ],
   "source": [
    "ins = GoogleSheetDownloader(json_file=json_file)\n",
    "ins.connection()"
   ]
  },
  {
   "cell_type": "code",
   "execution_count": 3,
   "metadata": {
    "collapsed": false
   },
   "outputs": [
    {
     "name": "stdout",
     "output_type": "stream",
     "text": [
      "connection established.\n",
      "\n",
      "Worksheet \"SINA_10Year\" has been downloaded.\n"
     ]
    }
   ],
   "source": [
    "records = ins.get_one_worksheet(workbook=workbook, sheet_name='SINA_10Year')"
   ]
  },
  {
   "cell_type": "code",
   "execution_count": 4,
   "metadata": {
    "collapsed": false
   },
   "outputs": [
    {
     "data": {
      "text/html": [
       "<div>\n",
       "<table border=\"1\" class=\"dataframe\">\n",
       "  <thead>\n",
       "    <tr style=\"text-align: right;\">\n",
       "      <th></th>\n",
       "      <th>Adj Close</th>\n",
       "      <th>Close</th>\n",
       "      <th>Date</th>\n",
       "      <th>High</th>\n",
       "      <th>Low</th>\n",
       "      <th>Open</th>\n",
       "      <th>Volume</th>\n",
       "    </tr>\n",
       "  </thead>\n",
       "  <tbody>\n",
       "    <tr>\n",
       "      <th>0</th>\n",
       "      <td>36.169998</td>\n",
       "      <td>36.169998</td>\n",
       "      <td>2007-05-14</td>\n",
       "      <td>36.599998</td>\n",
       "      <td>35.599998</td>\n",
       "      <td>36.349998</td>\n",
       "      <td>1668000</td>\n",
       "    </tr>\n",
       "    <tr>\n",
       "      <th>1</th>\n",
       "      <td>35.610001</td>\n",
       "      <td>35.610001</td>\n",
       "      <td>2007-05-15</td>\n",
       "      <td>38.340000</td>\n",
       "      <td>35.400002</td>\n",
       "      <td>35.750000</td>\n",
       "      <td>5385400</td>\n",
       "    </tr>\n",
       "    <tr>\n",
       "      <th>2</th>\n",
       "      <td>36.259998</td>\n",
       "      <td>36.259998</td>\n",
       "      <td>2007-05-16</td>\n",
       "      <td>36.320000</td>\n",
       "      <td>35.400002</td>\n",
       "      <td>35.840000</td>\n",
       "      <td>1373800</td>\n",
       "    </tr>\n",
       "  </tbody>\n",
       "</table>\n",
       "</div>"
      ],
      "text/plain": [
       "   Adj Close      Close       Date       High        Low       Open   Volume\n",
       "0  36.169998  36.169998 2007-05-14  36.599998  35.599998  36.349998  1668000\n",
       "1  35.610001  35.610001 2007-05-15  38.340000  35.400002  35.750000  5385400\n",
       "2  36.259998  36.259998 2007-05-16  36.320000  35.400002  35.840000  1373800"
      ]
     },
     "execution_count": 4,
     "metadata": {},
     "output_type": "execute_result"
    }
   ],
   "source": [
    "df = to_dataframe(records=records)\n",
    "df.head(3)"
   ]
  },
  {
   "cell_type": "code",
   "execution_count": null,
   "metadata": {
    "collapsed": true
   },
   "outputs": [],
   "source": [
    "ins.upload_dataframe(df=df, workbook='new_test', sheet_name='test')"
   ]
  }
 ],
 "metadata": {
  "kernelspec": {
   "display_name": "Python 3",
   "language": "python",
   "name": "python3"
  },
  "language_info": {
   "codemirror_mode": {
    "name": "ipython",
    "version": 3.0
   },
   "file_extension": ".py",
   "mimetype": "text/x-python",
   "name": "python",
   "nbconvert_exporter": "python",
   "pygments_lexer": "ipython3",
   "version": "3.6.0"
  }
 },
 "nbformat": 4,
 "nbformat_minor": 0
}